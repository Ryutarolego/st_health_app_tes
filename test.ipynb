{
 "cells": [
  {
   "cell_type": "code",
   "execution_count": 1,
   "metadata": {},
   "outputs": [
    {
     "name": "stdout",
     "output_type": "stream",
     "text": [
      "/home/ryutaro/workspace/bzi/test_app/master_data.csv のデータを /home/ryutaro/workspace/bzi/test_app/master_data.db に移行しました。\n"
     ]
    }
   ],
   "source": [
    "import sqlite3\n",
    "import pandas as pd\n",
    "import os\n",
    "\n",
    "# データフォルダの設定\n",
    "root = '/home/ryutaro/workspace/bzi/test_app'\n",
    "data_folder = os.path.join(root, 'data')\n",
    "master_csv = os.path.join(root, 'master_data.csv')\n",
    "\n",
    "# SQLiteデータベースのファイル名を指定\n",
    "db_name = os.path.join(root, 'master_data.db')\n",
    "\n",
    "# CSVが存在することを確認\n",
    "if not os.path.exists(master_csv):\n",
    "    print(f\"{master_csv} が見つかりません。先にCSVファイルを作成してください。\")\n",
    "    exit()\n",
    "\n",
    "# SQLiteデータベースに接続\n",
    "conn = sqlite3.connect(db_name)\n",
    "cursor = conn.cursor()\n",
    "\n",
    "# データベースにテーブルを作成（存在しない場合）\n",
    "cursor.execute('''\n",
    "CREATE TABLE IF NOT EXISTS master_data (\n",
    "    id INTEGER PRIMARY KEY AUTOINCREMENT,\n",
    "    日付 TEXT,\n",
    "    時刻 TEXT,\n",
    "    名前 TEXT,\n",
    "    年齢 INTEGER,\n",
    "    性別 TEXT,\n",
    "    CSVファイル名 TEXT\n",
    ")\n",
    "''')\n",
    "\n",
    "# マスターCSVを読み込む\n",
    "master_data = pd.read_csv(master_csv)\n",
    "\n",
    "# データをSQLiteに挿入\n",
    "for index, row in master_data.iterrows():\n",
    "    cursor.execute('''\n",
    "    INSERT INTO master_data (日付, 時刻, 名前, 年齢, 性別, CSVファイル名)\n",
    "    VALUES (?, ?, ?, ?, ?, ?)\n",
    "    ''', (row['日付'], row['時刻'], row['名前'], row['年齢'], row['性別'], row['CSVファイル名']))\n",
    "\n",
    "# データベースをコミットして接続を閉じる\n",
    "conn.commit()\n",
    "conn.close()\n",
    "\n",
    "print(f\"{master_csv} のデータを {db_name} に移行しました。\")\n"
   ]
  }
 ],
 "metadata": {
  "language_info": {
   "name": "python"
  }
 },
 "nbformat": 4,
 "nbformat_minor": 2
}
